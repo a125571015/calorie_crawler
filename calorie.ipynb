{
 "cells": [
  {
   "cell_type": "code",
   "execution_count": 9,
   "metadata": {},
   "outputs": [
    {
     "name": "stdout",
     "output_type": "stream",
     "text": [
      "https://consumer.fda.gov.tw/Food/tfndDetail.aspx?nodeID=178&f=0&id=30\n",
      "https://consumer.fda.gov.tw/Food/tfndDetail.aspx?nodeID=178&f=0&id=56\n",
      "https://consumer.fda.gov.tw/Food/tfndDetail.aspx?nodeID=178&f=0&id=114\n",
      "https://consumer.fda.gov.tw/Food/tfndDetail.aspx?nodeID=178&f=0&id=1549\n",
      "https://consumer.fda.gov.tw/Food/tfndDetail.aspx?nodeID=178&f=0&id=29\n",
      "https://consumer.fda.gov.tw/Food/tfndDetail.aspx?nodeID=178&f=0&id=87\n",
      "https://consumer.fda.gov.tw/Food/tfndDetail.aspx?nodeID=178&f=0&id=18\n",
      "https://consumer.fda.gov.tw/Food/tfndDetail.aspx?nodeID=178&f=0&id=19\n",
      "https://consumer.fda.gov.tw/Food/tfndDetail.aspx?nodeID=178&f=0&id=119\n",
      "https://consumer.fda.gov.tw/Food/tfndDetail.aspx?nodeID=178&f=0&id=22\n"
     ]
    }
   ],
   "source": [
    "import requests\n",
    "from bs4 import BeautifulSoup\n",
    "import os\n",
    "import json\n",
    "import random,time\n",
    "from random import randint\n",
    "import re\n",
    "import urllib\n",
    "import sys\n",
    "from urllib import request\n",
    "from datetime import datetime\n",
    "import pandas as pd\n",
    "from pandas.core.frame import DataFrame\n",
    "from datetime import datetime\n",
    "\n",
    "#流程控制\n",
    "\n",
    "def get_html(url):\n",
    "    headers={'User-Agent':'Mozilla/5.0 (Windows NT 6.1; Win64; x64; rv:77.0) Gecko/20100101 Firefox/77.0'}\n",
    "    ss=requests.session()\n",
    "    res=ss.get(url,headers=headers)\n",
    "    res_status_code=res.status_code\n",
    "    soup=BeautifulSoup(res.text,'html.parser')\n",
    "    return soup\n",
    "\n",
    "\n",
    "#參數設定\n",
    "\n",
    "url=\"https://consumer.fda.gov.tw/Food/TFND.aspx?nodeID=178\"\n",
    "\n",
    "change_page=''\n",
    "save_list=['id','name','kcal']\n",
    "soup=get_html(url)\n",
    "table=soup.select('tr')\n",
    "tmp=[]\n",
    "del table[0]\n",
    "\n",
    "#print(table)\n",
    "for i in table:\n",
    "    tmp_save=i.select('td.txt_L.shortStyleAuto')[0].select('a')\n",
    "    #tmp.append(tmp_save)\n",
    "    for j in tmp_save:\n",
    "        url='https://consumer.fda.gov.tw/Food/'+j['href']\n",
    "        print(url)\n",
    "        \n",
    "  \n",
    "#print(tmp)\n",
    "\n",
    "    \n",
    "    #aspnetForm div#ctl00_bgStyle.maninContent.bg div.contentWrap div.Deco div#ctl00_content_SearchPanel div#tabs.tabs div.content div#ctl00_content_ListPanel table.rwd-table tbody tr td.txt_L.shortStyleAuto"
   ]
  },
  {
   "cell_type": "code",
   "execution_count": 13,
   "metadata": {},
   "outputs": [
    {
     "name": "stdout",
     "output_type": "stream",
     "text": [
      "A0100101\n"
     ]
    }
   ],
   "source": [
    "url='https://consumer.fda.gov.tw/Food/tfndDetail.aspx?nodeID=178&f=0&id=30'\n",
    "soup=get_html(url)\n",
    "#print(soup)\n",
    "id_number=soup.select('span#ctl00_content_lbIntNo')\n",
    "\n",
    "print(id_number[0].text)\n",
    "\n",
    "#html body form#aspnetForm div#ctl00_bgStyle.maninContent.bg div.contentWrap div.Deco div.innerBlock ul.resultList li p.RL-td "
   ]
  },
  {
   "cell_type": "code",
   "execution_count": null,
   "metadata": {},
   "outputs": [],
   "source": []
  }
 ],
 "metadata": {
  "kernelspec": {
   "display_name": "Python 3",
   "language": "python",
   "name": "python3"
  },
  "language_info": {
   "codemirror_mode": {
    "name": "ipython",
    "version": 3
   },
   "file_extension": ".py",
   "mimetype": "text/x-python",
   "name": "python",
   "nbconvert_exporter": "python",
   "pygments_lexer": "ipython3",
   "version": "3.8.3"
  }
 },
 "nbformat": 4,
 "nbformat_minor": 4
}
